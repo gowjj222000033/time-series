{
 "cells": [
  {
   "cell_type": "code",
   "execution_count": null,
   "id": "69372300",
   "metadata": {},
   "outputs": [],
   "source": [
    "import requests\n",
    "import json\n",
    "\n",
    "\n",
    "api_key = 'YOUR_API_KEY'\n",
    "\n",
    "\n",
    "def get_weather(city):\n",
    "  \n",
    "    url = f'http://api.openweathermap.org/data/2.5/weather?q={city}&appid={api_key}&units=metric'\n",
    "    \n",
    "    \n",
    "    response = requests.get(url)\n",
    "    \n",
    "    \n",
    "    if response.status_code == 200:\n",
    "        \n",
    "        data = response.json()\n",
    "        \n",
    "        \n",
    "        temperature = data['main']['temp']\n",
    "        weather_description = data['weather'][0]['description']\n",
    "        \n",
    "       \n",
    "        print(f\"City: {city}\")\n",
    "        print(f\"Temperature: {temperature}°C\")\n",
    "        print(f\"Weather: {weather_description.capitalize()}\")\n",
    "    else:\n",
    "        print(f\"Error: {response.status_code}\")\n",
    "\n",
    "city = 'London'\n",
    "get_weather(city)\n"
   ]
  }
 ],
 "metadata": {
  "kernelspec": {
   "display_name": "Python 3 (ipykernel)",
   "language": "python",
   "name": "python3"
  },
  "language_info": {
   "codemirror_mode": {
    "name": "ipython",
    "version": 3
   },
   "file_extension": ".py",
   "mimetype": "text/x-python",
   "name": "python",
   "nbconvert_exporter": "python",
   "pygments_lexer": "ipython3",
   "version": "3.11.5"
  }
 },
 "nbformat": 4,
 "nbformat_minor": 5
}
